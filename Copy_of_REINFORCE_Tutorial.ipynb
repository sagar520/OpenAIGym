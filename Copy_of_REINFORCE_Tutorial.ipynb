{
  "nbformat": 4,
  "nbformat_minor": 0,
  "metadata": {
    "accelerator": "GPU",
    "colab": {
      "name": "Copy of REINFORCE Tutorial.ipynb",
      "provenance": [],
      "collapsed_sections": [],
      "toc_visible": true,
      "include_colab_link": true
    },
    "kernelspec": {
      "name": "python3",
      "language": "python",
      "display_name": "Python 3"
    },
    "pycharm": {
      "stem_cell": {
        "cell_type": "raw",
        "source": [],
        "metadata": {
          "collapsed": false
        }
      }
    }
  },
  "cells": [
    {
      "cell_type": "markdown",
      "metadata": {
        "id": "view-in-github",
        "colab_type": "text"
      },
      "source": [
        "<a href=\"https://colab.research.google.com/github/sagar520/OpenAIGym/blob/master/Copy_of_REINFORCE_Tutorial.ipynb\" target=\"_parent\"><img src=\"https://colab.research.google.com/assets/colab-badge.svg\" alt=\"Open In Colab\"/></a>"
      ]
    },
    {
      "cell_type": "markdown",
      "metadata": {
        "colab_type": "text",
        "id": "klGNgWREsvQv"
      },
      "source": [
        "##### Copyright 2018 The TF-Agents Authors."
      ]
    },
    {
      "cell_type": "markdown",
      "metadata": {
        "colab_type": "text",
        "id": "lsaQlK8fFQqH"
      },
      "source": [
        "### Get Started\n",
        "<table class=\"tfo-notebook-buttons\" align=\"left\">\n",
        "  <td>\n",
        "    <a target=\"_blank\" href=\"https://colab.research.google.com/github/tensorflow/agents/blob/master/tf_agents/colabs/6_reinforce_tutorial.ipynb\"><img src=\"https://www.tensorflow.org/images/colab_logo_32px.png\" />Run in Google Colab</a>\n",
        "  </td>\n",
        "  <td>\n",
        "    <a target=\"_blank\" href=\"https://github.com/tensorflow/agents/blob/master/tf_agents/colabs/6_reinforce_tutorial.ipynb\"><img src=\"https://www.tensorflow.org/images/GitHub-Mark-32px.png\" />View source on GitHub</a>\n",
        "  </td>\n",
        "</table>\n"
      ]
    },
    {
      "cell_type": "code",
      "metadata": {
        "colab_type": "code",
        "id": "KEHR2Ui-lo8O",
        "outputId": "f3e791f3-0b7c-454e-cd16-af655f30d627",
        "colab": {
          "base_uri": "https://localhost:8080/",
          "height": 743
        }
      },
      "source": [
        "# Note: If you haven't installed the following dependencies, run:\n",
        "!apt-get install xvfb\n",
        "!pip install 'gym==0.10.11'\n",
        "!pip install 'imageio==2.4.0'\n",
        "!pip install PILLOW\n",
        "!pip install 'pyglet==1.3.2'\n",
        "!pip install pyvirtualdisplay\n",
        "!pip install tf-agents-nightly\n",
        "try:\n",
        "  %%tensorflow_version 2.x\n",
        "except:\n",
        "  pass\n"
      ],
      "execution_count": 0,
      "outputs": [
        {
          "output_type": "stream",
          "text": [
            "Reading package lists... Done\n",
            "Building dependency tree       \n",
            "Reading state information... Done\n",
            "xvfb is already the newest version (2:1.19.6-1ubuntu4.3).\n",
            "0 upgraded, 0 newly installed, 0 to remove and 29 not upgraded.\n",
            "Requirement already satisfied: gym==0.10.11 in /usr/local/lib/python3.6/dist-packages (0.10.11)\n",
            "Requirement already satisfied: six in /tensorflow-2.0.0/python3.6 (from gym==0.10.11) (1.13.0)\n",
            "Requirement already satisfied: requests>=2.0 in /tensorflow-2.0.0/python3.6 (from gym==0.10.11) (2.22.0)\n",
            "Requirement already satisfied: pyglet>=1.2.0 in /usr/local/lib/python3.6/dist-packages (from gym==0.10.11) (1.3.2)\n",
            "Requirement already satisfied: scipy in /usr/local/lib/python3.6/dist-packages (from gym==0.10.11) (1.3.2)\n",
            "Requirement already satisfied: numpy>=1.10.4 in /tensorflow-2.0.0/python3.6 (from gym==0.10.11) (1.17.4)\n",
            "Requirement already satisfied: urllib3!=1.25.0,!=1.25.1,<1.26,>=1.21.1 in /tensorflow-2.0.0/python3.6 (from requests>=2.0->gym==0.10.11) (1.25.7)\n",
            "Requirement already satisfied: certifi>=2017.4.17 in /tensorflow-2.0.0/python3.6 (from requests>=2.0->gym==0.10.11) (2019.9.11)\n",
            "Requirement already satisfied: idna<2.9,>=2.5 in /tensorflow-2.0.0/python3.6 (from requests>=2.0->gym==0.10.11) (2.8)\n",
            "Requirement already satisfied: chardet<3.1.0,>=3.0.2 in /tensorflow-2.0.0/python3.6 (from requests>=2.0->gym==0.10.11) (3.0.4)\n",
            "Requirement already satisfied: future in /usr/local/lib/python3.6/dist-packages (from pyglet>=1.2.0->gym==0.10.11) (0.16.0)\n",
            "\u001b[31mERROR: Operation cancelled by user\u001b[0m\n",
            "Requirement already satisfied: imageio==2.4.0 in /usr/local/lib/python3.6/dist-packages (2.4.0)\n",
            "Requirement already satisfied: pillow in /usr/local/lib/python3.6/dist-packages (from imageio==2.4.0) (4.3.0)\n",
            "Requirement already satisfied: numpy in /tensorflow-2.0.0/python3.6 (from imageio==2.4.0) (1.17.4)\n",
            "Requirement already satisfied: olefile in /usr/local/lib/python3.6/dist-packages (from pillow->imageio==2.4.0) (0.46)\n"
          ],
          "name": "stdout"
        },
        {
          "output_type": "error",
          "ename": "KeyboardInterrupt",
          "evalue": "ignored",
          "traceback": [
            "\u001b[0;31m---------------------------------------------------------------------------\u001b[0m",
            "\u001b[0;31mKeyboardInterrupt\u001b[0m                         Traceback (most recent call last)",
            "\u001b[0;32m<ipython-input-2-46ace7e86173>\u001b[0m in \u001b[0;36m<module>\u001b[0;34m()\u001b[0m\n\u001b[1;32m      1\u001b[0m \u001b[0mget_ipython\u001b[0m\u001b[0;34m(\u001b[0m\u001b[0;34m)\u001b[0m\u001b[0;34m.\u001b[0m\u001b[0msystem\u001b[0m\u001b[0;34m(\u001b[0m\u001b[0;34m'apt-get install xvfb'\u001b[0m\u001b[0;34m)\u001b[0m\u001b[0;34m\u001b[0m\u001b[0;34m\u001b[0m\u001b[0m\n\u001b[1;32m      2\u001b[0m \u001b[0mget_ipython\u001b[0m\u001b[0;34m(\u001b[0m\u001b[0;34m)\u001b[0m\u001b[0;34m.\u001b[0m\u001b[0msystem\u001b[0m\u001b[0;34m(\u001b[0m\u001b[0;34m\"pip install 'gym==0.10.11'\"\u001b[0m\u001b[0;34m)\u001b[0m\u001b[0;34m\u001b[0m\u001b[0;34m\u001b[0m\u001b[0m\n\u001b[0;32m----> 3\u001b[0;31m \u001b[0mget_ipython\u001b[0m\u001b[0;34m(\u001b[0m\u001b[0;34m)\u001b[0m\u001b[0;34m.\u001b[0m\u001b[0msystem\u001b[0m\u001b[0;34m(\u001b[0m\u001b[0;34m\"pip install 'imageio==2.4.0'\"\u001b[0m\u001b[0;34m)\u001b[0m\u001b[0;34m\u001b[0m\u001b[0;34m\u001b[0m\u001b[0m\n\u001b[0m\u001b[1;32m      4\u001b[0m \u001b[0mget_ipython\u001b[0m\u001b[0;34m(\u001b[0m\u001b[0;34m)\u001b[0m\u001b[0;34m.\u001b[0m\u001b[0msystem\u001b[0m\u001b[0;34m(\u001b[0m\u001b[0;34m'pip install PILLOW'\u001b[0m\u001b[0;34m)\u001b[0m\u001b[0;34m\u001b[0m\u001b[0;34m\u001b[0m\u001b[0m\n\u001b[1;32m      5\u001b[0m \u001b[0mget_ipython\u001b[0m\u001b[0;34m(\u001b[0m\u001b[0;34m)\u001b[0m\u001b[0;34m.\u001b[0m\u001b[0msystem\u001b[0m\u001b[0;34m(\u001b[0m\u001b[0;34m\"pip install 'pyglet==1.3.2'\"\u001b[0m\u001b[0;34m)\u001b[0m\u001b[0;34m\u001b[0m\u001b[0;34m\u001b[0m\u001b[0m\n",
            "\u001b[0;32m/usr/local/lib/python3.6/dist-packages/google/colab/_shell.py\u001b[0m in \u001b[0;36msystem\u001b[0;34m(self, *args, **kwargs)\u001b[0m\n\u001b[1;32m     94\u001b[0m       \u001b[0mkwargs\u001b[0m\u001b[0;34m.\u001b[0m\u001b[0mupdate\u001b[0m\u001b[0;34m(\u001b[0m\u001b[0;34m{\u001b[0m\u001b[0;34m'also_return_output'\u001b[0m\u001b[0;34m:\u001b[0m \u001b[0;32mTrue\u001b[0m\u001b[0;34m}\u001b[0m\u001b[0;34m)\u001b[0m\u001b[0;34m\u001b[0m\u001b[0;34m\u001b[0m\u001b[0m\n\u001b[1;32m     95\u001b[0m \u001b[0;34m\u001b[0m\u001b[0m\n\u001b[0;32m---> 96\u001b[0;31m     \u001b[0moutput\u001b[0m \u001b[0;34m=\u001b[0m \u001b[0m_system_commands\u001b[0m\u001b[0;34m.\u001b[0m\u001b[0m_system_compat\u001b[0m\u001b[0;34m(\u001b[0m\u001b[0mself\u001b[0m\u001b[0;34m,\u001b[0m \u001b[0;34m*\u001b[0m\u001b[0margs\u001b[0m\u001b[0;34m,\u001b[0m \u001b[0;34m**\u001b[0m\u001b[0mkwargs\u001b[0m\u001b[0;34m)\u001b[0m  \u001b[0;31m# pylint:disable=protected-access\u001b[0m\u001b[0;34m\u001b[0m\u001b[0;34m\u001b[0m\u001b[0m\n\u001b[0m\u001b[1;32m     97\u001b[0m \u001b[0;34m\u001b[0m\u001b[0m\n\u001b[1;32m     98\u001b[0m     \u001b[0;32mif\u001b[0m \u001b[0mpip_warn\u001b[0m\u001b[0;34m:\u001b[0m\u001b[0;34m\u001b[0m\u001b[0;34m\u001b[0m\u001b[0m\n",
            "\u001b[0;32m/usr/local/lib/python3.6/dist-packages/google/colab/_system_commands.py\u001b[0m in \u001b[0;36m_system_compat\u001b[0;34m(shell, cmd, also_return_output)\u001b[0m\n\u001b[1;32m    436\u001b[0m   \u001b[0;31m# stack.\u001b[0m\u001b[0;34m\u001b[0m\u001b[0;34m\u001b[0m\u001b[0;34m\u001b[0m\u001b[0m\n\u001b[1;32m    437\u001b[0m   result = _run_command(\n\u001b[0;32m--> 438\u001b[0;31m       shell.var_expand(cmd, depth=2), clear_streamed_output=False)\n\u001b[0m\u001b[1;32m    439\u001b[0m   \u001b[0mshell\u001b[0m\u001b[0;34m.\u001b[0m\u001b[0muser_ns\u001b[0m\u001b[0;34m[\u001b[0m\u001b[0;34m'_exit_code'\u001b[0m\u001b[0;34m]\u001b[0m \u001b[0;34m=\u001b[0m \u001b[0mresult\u001b[0m\u001b[0;34m.\u001b[0m\u001b[0mreturncode\u001b[0m\u001b[0;34m\u001b[0m\u001b[0;34m\u001b[0m\u001b[0m\n\u001b[1;32m    440\u001b[0m   \u001b[0;32mif\u001b[0m \u001b[0;34m-\u001b[0m\u001b[0mresult\u001b[0m\u001b[0;34m.\u001b[0m\u001b[0mreturncode\u001b[0m \u001b[0;32min\u001b[0m \u001b[0m_INTERRUPTED_SIGNALS\u001b[0m\u001b[0;34m:\u001b[0m\u001b[0;34m\u001b[0m\u001b[0;34m\u001b[0m\u001b[0m\n",
            "\u001b[0;32m/usr/local/lib/python3.6/dist-packages/google/colab/_system_commands.py\u001b[0m in \u001b[0;36m_run_command\u001b[0;34m(cmd, clear_streamed_output)\u001b[0m\n\u001b[1;32m    193\u001b[0m       \u001b[0mos\u001b[0m\u001b[0;34m.\u001b[0m\u001b[0mclose\u001b[0m\u001b[0;34m(\u001b[0m\u001b[0mchild_pty\u001b[0m\u001b[0;34m)\u001b[0m\u001b[0;34m\u001b[0m\u001b[0;34m\u001b[0m\u001b[0m\n\u001b[1;32m    194\u001b[0m \u001b[0;34m\u001b[0m\u001b[0m\n\u001b[0;32m--> 195\u001b[0;31m       \u001b[0;32mreturn\u001b[0m \u001b[0m_monitor_process\u001b[0m\u001b[0;34m(\u001b[0m\u001b[0mparent_pty\u001b[0m\u001b[0;34m,\u001b[0m \u001b[0mepoll\u001b[0m\u001b[0;34m,\u001b[0m \u001b[0mp\u001b[0m\u001b[0;34m,\u001b[0m \u001b[0mcmd\u001b[0m\u001b[0;34m,\u001b[0m \u001b[0mupdate_stdin_widget\u001b[0m\u001b[0;34m)\u001b[0m\u001b[0;34m\u001b[0m\u001b[0;34m\u001b[0m\u001b[0m\n\u001b[0m\u001b[1;32m    196\u001b[0m   \u001b[0;32mfinally\u001b[0m\u001b[0;34m:\u001b[0m\u001b[0;34m\u001b[0m\u001b[0;34m\u001b[0m\u001b[0m\n\u001b[1;32m    197\u001b[0m     \u001b[0mepoll\u001b[0m\u001b[0;34m.\u001b[0m\u001b[0mclose\u001b[0m\u001b[0;34m(\u001b[0m\u001b[0;34m)\u001b[0m\u001b[0;34m\u001b[0m\u001b[0;34m\u001b[0m\u001b[0m\n",
            "\u001b[0;32m/usr/lib/python3.6/contextlib.py\u001b[0m in \u001b[0;36m__exit__\u001b[0;34m(self, type, value, traceback)\u001b[0m\n\u001b[1;32m     86\u001b[0m         \u001b[0;32mif\u001b[0m \u001b[0mtype\u001b[0m \u001b[0;32mis\u001b[0m \u001b[0;32mNone\u001b[0m\u001b[0;34m:\u001b[0m\u001b[0;34m\u001b[0m\u001b[0;34m\u001b[0m\u001b[0m\n\u001b[1;32m     87\u001b[0m             \u001b[0;32mtry\u001b[0m\u001b[0;34m:\u001b[0m\u001b[0;34m\u001b[0m\u001b[0;34m\u001b[0m\u001b[0m\n\u001b[0;32m---> 88\u001b[0;31m                 \u001b[0mnext\u001b[0m\u001b[0;34m(\u001b[0m\u001b[0mself\u001b[0m\u001b[0;34m.\u001b[0m\u001b[0mgen\u001b[0m\u001b[0;34m)\u001b[0m\u001b[0;34m\u001b[0m\u001b[0;34m\u001b[0m\u001b[0m\n\u001b[0m\u001b[1;32m     89\u001b[0m             \u001b[0;32mexcept\u001b[0m \u001b[0mStopIteration\u001b[0m\u001b[0;34m:\u001b[0m\u001b[0;34m\u001b[0m\u001b[0;34m\u001b[0m\u001b[0m\n\u001b[1;32m     90\u001b[0m                 \u001b[0;32mreturn\u001b[0m \u001b[0;32mFalse\u001b[0m\u001b[0;34m\u001b[0m\u001b[0;34m\u001b[0m\u001b[0m\n",
            "\u001b[0;32m/usr/local/lib/python3.6/dist-packages/google/colab/_system_commands.py\u001b[0m in \u001b[0;36m_display_stdin_widget\u001b[0;34m(delay_millis)\u001b[0m\n\u001b[1;32m    353\u001b[0m \u001b[0;34m\u001b[0m\u001b[0m\n\u001b[1;32m    354\u001b[0m   \u001b[0mhide_args\u001b[0m \u001b[0;34m=\u001b[0m \u001b[0;34m[\u001b[0m\u001b[0;34m'cell_remove_stdin'\u001b[0m\u001b[0;34m,\u001b[0m \u001b[0;34m{\u001b[0m\u001b[0;34m}\u001b[0m\u001b[0;34m]\u001b[0m\u001b[0;34m\u001b[0m\u001b[0;34m\u001b[0m\u001b[0m\n\u001b[0;32m--> 355\u001b[0;31m   \u001b[0m_message\u001b[0m\u001b[0;34m.\u001b[0m\u001b[0mblocking_request\u001b[0m\u001b[0;34m(\u001b[0m\u001b[0;34m*\u001b[0m\u001b[0mhide_args\u001b[0m\u001b[0;34m,\u001b[0m \u001b[0mparent\u001b[0m\u001b[0;34m=\u001b[0m\u001b[0mshell\u001b[0m\u001b[0;34m.\u001b[0m\u001b[0mparent_header\u001b[0m\u001b[0;34m)\u001b[0m\u001b[0;34m\u001b[0m\u001b[0;34m\u001b[0m\u001b[0m\n\u001b[0m\u001b[1;32m    356\u001b[0m \u001b[0;34m\u001b[0m\u001b[0m\n\u001b[1;32m    357\u001b[0m \u001b[0;34m\u001b[0m\u001b[0m\n",
            "\u001b[0;32m/usr/local/lib/python3.6/dist-packages/google/colab/_message.py\u001b[0m in \u001b[0;36mblocking_request\u001b[0;34m(request_type, request, timeout_sec, parent)\u001b[0m\n\u001b[1;32m    169\u001b[0m   \u001b[0;31m# unique.\u001b[0m\u001b[0;34m\u001b[0m\u001b[0;34m\u001b[0m\u001b[0;34m\u001b[0m\u001b[0m\n\u001b[1;32m    170\u001b[0m   \u001b[0mrequest_id\u001b[0m \u001b[0;34m=\u001b[0m \u001b[0msend_request\u001b[0m\u001b[0;34m(\u001b[0m\u001b[0mrequest_type\u001b[0m\u001b[0;34m,\u001b[0m \u001b[0mrequest\u001b[0m\u001b[0;34m,\u001b[0m \u001b[0mparent\u001b[0m\u001b[0;34m=\u001b[0m\u001b[0mparent\u001b[0m\u001b[0;34m)\u001b[0m\u001b[0;34m\u001b[0m\u001b[0;34m\u001b[0m\u001b[0m\n\u001b[0;32m--> 171\u001b[0;31m   \u001b[0;32mreturn\u001b[0m \u001b[0mread_reply_from_input\u001b[0m\u001b[0;34m(\u001b[0m\u001b[0mrequest_id\u001b[0m\u001b[0;34m,\u001b[0m \u001b[0mtimeout_sec\u001b[0m\u001b[0;34m)\u001b[0m\u001b[0;34m\u001b[0m\u001b[0;34m\u001b[0m\u001b[0m\n\u001b[0m",
            "\u001b[0;32m/usr/local/lib/python3.6/dist-packages/google/colab/_message.py\u001b[0m in \u001b[0;36mread_reply_from_input\u001b[0;34m(message_id, timeout_sec)\u001b[0m\n\u001b[1;32m     99\u001b[0m     \u001b[0mreply\u001b[0m \u001b[0;34m=\u001b[0m \u001b[0m_read_next_input_message\u001b[0m\u001b[0;34m(\u001b[0m\u001b[0;34m)\u001b[0m\u001b[0;34m\u001b[0m\u001b[0;34m\u001b[0m\u001b[0m\n\u001b[1;32m    100\u001b[0m     \u001b[0;32mif\u001b[0m \u001b[0mreply\u001b[0m \u001b[0;34m==\u001b[0m \u001b[0m_NOT_READY\u001b[0m \u001b[0;32mor\u001b[0m \u001b[0;32mnot\u001b[0m \u001b[0misinstance\u001b[0m\u001b[0;34m(\u001b[0m\u001b[0mreply\u001b[0m\u001b[0;34m,\u001b[0m \u001b[0mdict\u001b[0m\u001b[0;34m)\u001b[0m\u001b[0;34m:\u001b[0m\u001b[0;34m\u001b[0m\u001b[0;34m\u001b[0m\u001b[0m\n\u001b[0;32m--> 101\u001b[0;31m       \u001b[0mtime\u001b[0m\u001b[0;34m.\u001b[0m\u001b[0msleep\u001b[0m\u001b[0;34m(\u001b[0m\u001b[0;36m0.025\u001b[0m\u001b[0;34m)\u001b[0m\u001b[0;34m\u001b[0m\u001b[0;34m\u001b[0m\u001b[0m\n\u001b[0m\u001b[1;32m    102\u001b[0m       \u001b[0;32mcontinue\u001b[0m\u001b[0;34m\u001b[0m\u001b[0;34m\u001b[0m\u001b[0m\n\u001b[1;32m    103\u001b[0m     if (reply.get('type') == 'colab_reply' and\n",
            "\u001b[0;31mKeyboardInterrupt\u001b[0m: "
          ]
        }
      ]
    },
    {
      "cell_type": "markdown",
      "metadata": {
        "colab_type": "text",
        "id": "ZOUOQOrFs3zn"
      },
      "source": [
        "## Introduction"
      ]
    },
    {
      "cell_type": "markdown",
      "metadata": {
        "colab_type": "text",
        "id": "cKOCZlhUgXVK"
      },
      "source": [
        "This example shows how to train a [REINFORCE](http://www-anw.cs.umass.edu/~barto/courses/cs687/williams92simple.pdf) agent on the Cartpole environment using the TF-Agents library, similar to the [DQN tutorial](1_dqn_tutorial.ipynb).\n",
        "\n",
        "![Cartpole environment](https://github.com/tensorflow/agents/blob/master/tf_agents/colabs/images/cartpole.png?raw=1)\n",
        "\n",
        "We will walk you through all the components in a Reinforcement Learning (RL) pipeline for training, evaluation and data collection.\n"
      ]
    },
    {
      "cell_type": "markdown",
      "metadata": {
        "colab_type": "text",
        "id": "1u9QVVsShC9X"
      },
      "source": [
        "## Setup"
      ]
    },
    {
      "cell_type": "code",
      "metadata": {
        "colab_type": "code",
        "id": "sMitx5qSgJk1",
        "outputId": "d475a999-c599-4eb4-9ce0-a80bb8eb4d54",
        "colab": {
          "base_uri": "https://localhost:8080/",
          "height": 34
        }
      },
      "source": [
        "from __future__ import absolute_import\n",
        "from __future__ import division\n",
        "from __future__ import print_function\n",
        "\n",
        "import base64\n",
        "import imageio\n",
        "import IPython\n",
        "import matplotlib\n",
        "import matplotlib.pyplot as plt\n",
        "import PIL.Image\n",
        "import pyvirtualdisplay\n",
        "\n",
        "import tensorflow as tf\n",
        "\n",
        "from tf_agents.agents.reinforce import reinforce_agent\n",
        "from tf_agents.drivers import dynamic_step_driver\n",
        "from tf_agents.environments import suite_gym\n",
        "from tf_agents.environments import tf_py_environment\n",
        "from tf_agents.eval import metric_utils\n",
        "from tf_agents.metrics import tf_metrics\n",
        "from tf_agents.networks import actor_distribution_network\n",
        "from tf_agents.replay_buffers import tf_uniform_replay_buffer\n",
        "from tf_agents.trajectories import trajectory\n",
        "from tf_agents.utils import common\n",
        "\n",
        "tf.compat.v1.enable_v2_behavior()\n",
        "\n",
        "\n",
        "# Set up a virtual display for rendering OpenAI gym environments.\n",
        "display = pyvirtualdisplay.Display(visible=0, size=(1400, 900)).start()"
      ],
      "execution_count": 0,
      "outputs": [
        {
          "output_type": "stream",
          "text": [
            "xdpyinfo was not found, X start can not be checked! Please install xdpyinfo!\n"
          ],
          "name": "stderr"
        }
      ]
    },
    {
      "cell_type": "markdown",
      "metadata": {
        "colab_type": "text",
        "id": "LmC0NDhdLIKY"
      },
      "source": [
        "## Hyperparameters"
      ]
    },
    {
      "cell_type": "code",
      "metadata": {
        "colab_type": "code",
        "id": "HC1kNrOsLSIZ",
        "colab": {}
      },
      "source": [
        "env_name = \"CartPole-v0\" # @param {type:\"string\"}\n",
        "num_iterations = 250 # @param {type:\"integer\"}\n",
        "collect_episodes_per_iteration = 2 # @param {type:\"integer\"}\n",
        "replay_buffer_capacity = 2000 # @param {type:\"integer\"}\n",
        "\n",
        "fc_layer_params = (100,)\n",
        "\n",
        "learning_rate = 1e-3 # @param {type:\"number\"}\n",
        "log_interval = 25 # @param {type:\"integer\"}\n",
        "num_eval_episodes = 10 # @param {type:\"integer\"}\n",
        "eval_interval = 50 # @param {type:\"integer\"}"
      ],
      "execution_count": 0,
      "outputs": []
    },
    {
      "cell_type": "markdown",
      "metadata": {
        "colab_type": "text",
        "id": "VMsJC3DEgI0x"
      },
      "source": [
        "## Environment\n",
        "\n",
        "Environments in RL represent the task or problem that we are trying to solve. Standard environments can be easily created in TF-Agents using `suites`. We have different `suites` for loading environments from sources such as the OpenAI Gym, Atari, DM Control, etc., given a string environment name.\n",
        "\n",
        "Now let us load the CartPole environment from the OpenAI Gym suite."
      ]
    },
    {
      "cell_type": "code",
      "metadata": {
        "colab_type": "code",
        "id": "pYEz-S9gEv2-",
        "colab": {}
      },
      "source": [
        "env = suite_gym.load(env_name)"
      ],
      "execution_count": 0,
      "outputs": []
    },
    {
      "cell_type": "markdown",
      "metadata": {
        "colab_type": "text",
        "id": "IIHYVBkuvPNw"
      },
      "source": [
        "We can render this environment to see how it looks. A free-swinging pole is attached to a cart.  The goal is to move the cart right or left in order to keep the pole pointing up."
      ]
    },
    {
      "cell_type": "code",
      "metadata": {
        "colab_type": "code",
        "id": "RlO7WIQHu_7D",
        "outputId": "4dca3374-3f10-4e00-9ff4-eca9a96e109a",
        "colab": {
          "base_uri": "https://localhost:8080/",
          "height": 417
        }
      },
      "source": [
        "#@test {\"skip\": true}\n",
        "env.reset()\n",
        "PIL.Image.fromarray(env.render())"
      ],
      "execution_count": 0,
      "outputs": [
        {
          "output_type": "execute_result",
          "data": {
            "image/png": "[encoded data removed]",
            "text/plain": [
              "<PIL.Image.Image image mode=RGB size=600x400 at 0x7FB5136B94A8>"
            ]
          },
          "metadata": {
            "tags": []
          },
          "execution_count": 6
        }
      ]
    },
    {
      "cell_type": "markdown",
      "metadata": {
        "colab_type": "text",
        "id": "B9_lskPOey18"
      },
      "source": [
        "The `time_step = environment.step(action)` statement takes `action` in the environment.  The `TimeStep` tuple returned contains the environment's next observation and reward for that action. The `time_step_spec()` and `action_spec()` methods in the environment return the specifications (types, shapes, bounds) of the `time_step` and `action` respectively."
      ]
    },
    {
      "cell_type": "code",
      "metadata": {
        "colab_type": "code",
        "id": "exDv57iHfwQV",
        "outputId": "321921a1-d125-4645-b10d-caa9b93d0ee6",
        "colab": {
          "base_uri": "https://localhost:8080/",
          "height": 104
        }
      },
      "source": [
        "print('Observation Spec:')\n",
        "print(env.time_step_spec().observation)\n",
        "print('Action Spec:')\n",
        "print(env.action_spec())"
      ],
      "execution_count": 0,
      "outputs": [
        {
          "output_type": "stream",
          "text": [
            "Observation Spec:\n",
            "BoundedArraySpec(shape=(4,), dtype=dtype('float32'), name='observation', minimum=[-4.8000002e+00 -3.4028235e+38 -4.1887903e-01 -3.4028235e+38], maximum=[4.8000002e+00 3.4028235e+38 4.1887903e-01 3.4028235e+38])\n",
            "Action Spec:\n",
            "BoundedArraySpec(shape=(), dtype=dtype('int64'), name='action', minimum=0, maximum=1)\n"
          ],
          "name": "stdout"
        }
      ]
    },
    {
      "cell_type": "markdown",
      "metadata": {
        "colab_type": "text",
        "id": "eJCgJnx3g0yY"
      },
      "source": [
        "So, we see that observation is an array of 4 floats: the position and velocity of the cart, and the angular position and velocity of the pole. Since only two actions are possible (move left or move right), the `action_spec` is a scalar where 0 means \"move left\" and 1 means \"move right.\""
      ]
    },
    {
      "cell_type": "code",
      "metadata": {
        "colab_type": "code",
        "id": "V2UGR5t_iZX-",
        "outputId": "97380264-1966-4806-da68-c1bfe6a8cfd7",
        "colab": {
          "base_uri": "https://localhost:8080/",
          "height": 104
        }
      },
      "source": [
        "time_step = env.reset()\n",
        "print('Time step:')\n",
        "print(time_step)\n",
        "\n",
        "action = 1\n",
        "\n",
        "next_time_step = env.step(action)\n",
        "print('Next time step:')\n",
        "print(next_time_step)"
      ],
      "execution_count": 0,
      "outputs": [
        {
          "output_type": "stream",
          "text": [
            "Time step:\n",
            "TimeStep(step_type=array(0, dtype=int32), reward=array(0., dtype=float32), discount=array(1., dtype=float32), observation=array([-0.02897823,  0.00542515,  0.00699192, -0.03459378], dtype=float32))\n",
            "Next time step:\n",
            "TimeStep(step_type=array(1, dtype=int32), reward=array(1., dtype=float32), discount=array(1., dtype=float32), observation=array([-0.02886973,  0.20044614,  0.00630004, -0.3250625 ], dtype=float32))\n"
          ],
          "name": "stdout"
        }
      ]
    },
    {
      "cell_type": "markdown",
      "metadata": {
        "colab_type": "text",
        "id": "zuUqXAVmecTU"
      },
      "source": [
        "Usually we create two environments: one for training and one for evaluation. Most environments are written in pure python, but they can be easily converted to TensorFlow using the `TFPyEnvironment` wrapper. The original environment's API uses numpy arrays, the `TFPyEnvironment` converts these to/from `Tensors` for you to more easily interact with TensorFlow policies and agents.\n"
      ]
    },
    {
      "cell_type": "code",
      "metadata": {
        "colab_type": "code",
        "id": "Xp-Y4mD6eDhF",
        "colab": {}
      },
      "source": [
        "train_py_env = suite_gym.load(env_name)\n",
        "eval_py_env = suite_gym.load(env_name)\n",
        "\n",
        "train_env = tf_py_environment.TFPyEnvironment(train_py_env)\n",
        "eval_env = tf_py_environment.TFPyEnvironment(eval_py_env)"
      ],
      "execution_count": 0,
      "outputs": []
    },
    {
      "cell_type": "markdown",
      "metadata": {
        "colab_type": "text",
        "id": "E9lW_OZYFR8A"
      },
      "source": [
        "## Agent\n",
        "\n",
        "The algorithm that we use to solve an RL problem is represented as an `Agent`. In addition to the REINFORCE agent, TF-Agents provides standard implementations of a variety of `Agents` such as [DQN](https://storage.googleapis.com/deepmind-media/dqn/DQNNaturePaper.pdf), [DDPG](https://arxiv.org/pdf/1509.02971.pdf), [TD3](https://arxiv.org/pdf/1802.09477.pdf), [PPO](https://arxiv.org/abs/1707.06347) and [SAC](https://arxiv.org/abs/1801.01290).\n",
        "\n",
        "To create a REINFORCE Agent, we first need an `Actor Network` that can learn to predict the action given an observation from the environment.\n",
        "\n",
        "We can easily create an `Actor Network` using the specs of the observations and actions. We can specify the layers in the network which, in this example, is the `fc_layer_params` argument set to a tuple of `ints` representing the sizes of each hidden layer (see the Hyperparameters section above).\n",
        "\n"
      ]
    },
    {
      "cell_type": "code",
      "metadata": {
        "colab_type": "code",
        "id": "TgkdEPg_muzV",
        "colab": {}
      },
      "source": [
        "actor_net = actor_distribution_network.ActorDistributionNetwork(\n",
        "    train_env.observation_spec(),\n",
        "    train_env.action_spec(),\n",
        "    fc_layer_params=fc_layer_params)"
      ],
      "execution_count": 0,
      "outputs": []
    },
    {
      "cell_type": "markdown",
      "metadata": {
        "colab_type": "text",
        "id": "z62u55hSmviJ"
      },
      "source": [
        "We also need an `optimizer` to train the network we just created, and a `train_step_counter` variable to keep track of how many times the network was updated.\n",
        "\n",
        "\n",
        "\n"
      ]
    },
    {
      "cell_type": "code",
      "metadata": {
        "colab_type": "code",
        "id": "jbY4yrjTEyc9",
        "colab": {}
      },
      "source": [
        "optimizer = tf.compat.v1.train.AdamOptimizer(learning_rate=learning_rate)\n",
        "\n",
        "train_step_counter = tf.compat.v2.Variable(0)\n",
        "\n",
        "tf_agent = reinforce_agent.ReinforceAgent(\n",
        "    train_env.time_step_spec(),\n",
        "    train_env.action_spec(),\n",
        "    actor_network=actor_net,\n",
        "    optimizer=optimizer,\n",
        "    normalize_returns=True,\n",
        "    train_step_counter=train_step_counter)\n",
        "tf_agent.initialize()"
      ],
      "execution_count": 0,
      "outputs": []
    },
    {
      "cell_type": "markdown",
      "metadata": {
        "colab_type": "text",
        "id": "I0KLrEPwkn5x"
      },
      "source": [
        "## Policies\n",
        "\n",
        "In TF-Agents, policies represent the standard notion of policies in RL: given a `time_step` produce an action or a distribution over actions. The main method is `policy_step = policy.step(time_step)` where `policy_step` is a named tuple `PolicyStep(action, state, info)`.  The `policy_step.action` is the `action` to be applied to the environment, `state` represents the state for stateful (RNN) policies and `info` may contain auxiliary information such as log probabilities of the actions.\n",
        "\n",
        "Agents contain two policies: the main policy that is used for evaluation/deployment (agent.policy) and another policy that is used for data collection (agent.collect_policy)."
      ]
    },
    {
      "cell_type": "code",
      "metadata": {
        "colab_type": "code",
        "id": "BwY7StuMkuV4",
        "colab": {}
      },
      "source": [
        "eval_policy = tf_agent.policy\n",
        "collect_policy = tf_agent.collect_policy"
      ],
      "execution_count": 0,
      "outputs": []
    },
    {
      "cell_type": "markdown",
      "metadata": {
        "colab_type": "text",
        "id": "94rCXQtbUbXv"
      },
      "source": [
        "## Metrics and Evaluation\n",
        "\n",
        "The most common metric used to evaluate a policy is the average return. The return is the sum of rewards obtained while running a policy in an environment for an episode, and we usually average this over a few episodes. We can compute the average return metric as follows.\n"
      ]
    },
    {
      "cell_type": "code",
      "metadata": {
        "colab_type": "code",
        "id": "bitzHo5_UbXy",
        "colab": {}
      },
      "source": [
        "#@test {\"skip\": true}\n",
        "def compute_avg_return(environment, policy, num_episodes=10):\n",
        "\n",
        "  total_return = 0.0\n",
        "  for _ in range(num_episodes):\n",
        "\n",
        "    time_step = environment.reset()\n",
        "    episode_return = 0.0\n",
        "\n",
        "    while not time_step.is_last():\n",
        "      action_step = policy.action(time_step)\n",
        "      time_step = environment.step(action_step.action)\n",
        "      episode_return += time_step.reward\n",
        "    total_return += episode_return\n",
        "\n",
        "  avg_return = total_return / num_episodes\n",
        "  return avg_return.numpy()[0]\n",
        "\n",
        "\n",
        "# Please also see the metrics module for standard implementations of different\n",
        "# metrics."
      ],
      "execution_count": 0,
      "outputs": []
    },
    {
      "cell_type": "markdown",
      "metadata": {
        "colab_type": "text",
        "id": "NLva6g2jdWgr"
      },
      "source": [
        "## Replay Buffer\n",
        "\n",
        "In order to keep track of the data collected from the environment, we will use the TFUniformReplayBuffer. This replay buffer is constructed using specs describing the tensors that are to be stored, which can be obtained from the agent using `tf_agent.collect_data_spec`."
      ]
    },
    {
      "cell_type": "code",
      "metadata": {
        "colab_type": "code",
        "id": "vX2zGUWJGWAl",
        "colab": {}
      },
      "source": [
        "replay_buffer = tf_uniform_replay_buffer.TFUniformReplayBuffer(\n",
        "    data_spec=tf_agent.collect_data_spec,\n",
        "    batch_size=train_env.batch_size,\n",
        "    max_length=replay_buffer_capacity)"
      ],
      "execution_count": 0,
      "outputs": []
    },
    {
      "cell_type": "markdown",
      "metadata": {
        "colab_type": "text",
        "id": "ZGNTDJpZs4NN"
      },
      "source": [
        "For most agents, the `collect_data_spec` is a `Trajectory` named tuple containing the observation, action, reward etc."
      ]
    },
    {
      "cell_type": "markdown",
      "metadata": {
        "colab_type": "text",
        "id": "rVD5nQ9ZGo8_"
      },
      "source": [
        "## Data Collection\n",
        "\n",
        "As REINFORCE learns from whole episodes, we define a function to collect an episode using the given data collection policy and save the data (observations, actions, rewards etc.) as trajectories in the replay buffer."
      ]
    },
    {
      "cell_type": "code",
      "metadata": {
        "colab_type": "code",
        "id": "wr1KSAEGG4h9",
        "colab": {}
      },
      "source": [
        "#@test {\"skip\": true}\n",
        "\n",
        "def collect_episode(environment, policy, num_episodes):\n",
        "\n",
        "  episode_counter = 0\n",
        "  environment.reset()\n",
        "\n",
        "  while episode_counter < num_episodes:\n",
        "    time_step = environment.current_time_step()\n",
        "    action_step = policy.action(time_step)\n",
        "    next_time_step = environment.step(action_step.action)\n",
        "    traj = trajectory.from_transition(time_step, action_step, next_time_step)\n",
        "\n",
        "    # Add trajectory to the replay buffer\n",
        "    replay_buffer.add_batch(traj)\n",
        "\n",
        "    if traj.is_boundary():\n",
        "      episode_counter += 1\n",
        "\n",
        "\n",
        "# This loop is so common in RL, that we provide standard implementations of\n",
        "# these. For more details see the drivers module."
      ],
      "execution_count": 0,
      "outputs": []
    },
    {
      "cell_type": "markdown",
      "metadata": {
        "colab_type": "text",
        "id": "hBc9lj9VWWtZ"
      },
      "source": [
        "## Training the agent\n",
        "\n",
        "The training loop involves both collecting data from the environment and optimizing the agent's networks. Along the way, we will occasionally evaluate the agent's policy to see how we are doing.\n",
        "\n",
        "The following will take ~3 minutes to run."
      ]
    },
    {
      "cell_type": "code",
      "metadata": {
        "colab_type": "code",
        "id": "0pTbJ3PeyF-u",
        "outputId": "5b3a640a-6e79-4173-8dee-34e43c02f585",
        "colab": {
          "base_uri": "https://localhost:8080/",
          "height": 302
        }
      },
      "source": [
        "#@test {\"skip\": true}\n",
        "%%time\n",
        "\n",
        "# (Optional) Optimize by wrapping some of the code in a graph using TF function.\n",
        "tf_agent.train = common.function(tf_agent.train)\n",
        "\n",
        "# Reset the train step\n",
        "tf_agent.train_step_counter.assign(0)\n",
        "\n",
        "# Evaluate the agent's policy once before training.\n",
        "avg_return = compute_avg_return(eval_env, tf_agent.policy, num_eval_episodes)\n",
        "returns = [avg_return]\n",
        "\n",
        "for _ in range(num_iterations):\n",
        "\n",
        "  # Collect a few episodes using collect_policy and save to the replay buffer.\n",
        "  collect_episode(\n",
        "      train_env, tf_agent.collect_policy, collect_episodes_per_iteration)\n",
        "\n",
        "  # Use data from the buffer and update the agent's network.\n",
        "  experience = replay_buffer.gather_all()\n",
        "  train_loss = tf_agent.train(experience)\n",
        "  replay_buffer.clear()\n",
        "\n",
        "  step = tf_agent.train_step_counter.numpy()\n",
        "\n",
        "  if step % log_interval == 0:\n",
        "    print('step = {0}: loss = {1}'.format(step, train_loss.loss))\n",
        "\n",
        "  if step % eval_interval == 0:\n",
        "    avg_return = compute_avg_return(eval_env, tf_agent.policy, num_eval_episodes)\n",
        "    print('step = {0}: Average Return = {1}'.format(step, avg_return))\n",
        "    returns.append(avg_return)"
      ],
      "execution_count": 0,
      "outputs": [
        {
          "output_type": "stream",
          "text": [
            "step = 25: loss = 0.1760023832321167\n",
            "step = 50: loss = 0.06444263458251953\n",
            "step = 50: Average Return = 66.4000015258789\n",
            "step = 75: loss = 1.1003296375274658\n",
            "step = 100: loss = -0.7966077327728271\n",
            "step = 100: Average Return = 166.89999389648438\n",
            "step = 125: loss = -0.402498722076416\n",
            "step = 150: loss = -0.6692886352539062\n",
            "step = 150: Average Return = 182.10000610351562\n",
            "step = 175: loss = -2.851032257080078\n",
            "step = 200: loss = -1.6162409782409668\n",
            "step = 200: Average Return = 200.0\n",
            "step = 225: loss = -2.9109668731689453\n",
            "step = 250: loss = -2.7028818130493164\n",
            "step = 250: Average Return = 200.0\n",
            "CPU times: user 7min 15s, sys: 25.9 s, total: 7min 41s\n",
            "Wall time: 6min 46s\n"
          ],
          "name": "stdout"
        }
      ]
    },
    {
      "cell_type": "markdown",
      "metadata": {
        "colab_type": "text",
        "id": "68jNcA_TiJDq"
      },
      "source": [
        "## Visualization\n",
        "\n"
      ]
    },
    {
      "cell_type": "markdown",
      "metadata": {
        "colab_type": "text",
        "id": "aO-LWCdbbOIC"
      },
      "source": [
        "### Plots\n",
        "\n",
        "We can plot return vs global steps to see the performance of our agent. In `Cartpole-v0`, the environment gives a reward of +1 for every time step the pole stays up, and since the maximum number of steps is 200, the maximum possible return is also 200."
      ]
    },
    {
      "cell_type": "code",
      "metadata": {
        "colab_type": "code",
        "id": "NxtL1mbOYCVO",
        "outputId": "84444abb-6af5-424e-c0f9-88e1198ae477",
        "colab": {
          "base_uri": "https://localhost:8080/",
          "height": 300
        }
      },
      "source": [
        "#@test {\"skip\": true}\n",
        "\n",
        "steps = range(0, num_iterations + 1, eval_interval)\n",
        "plt.plot(steps, returns)\n",
        "plt.ylabel('Average Return')\n",
        "plt.xlabel('Step')\n",
        "plt.ylim(top=250)"
      ],
      "execution_count": 0,
      "outputs": [
        {
          "output_type": "execute_result",
          "data": {
            "text/plain": [
              "(0.5, 250)"
            ]
          },
          "metadata": {
            "tags": []
          },
          "execution_count": 17
        },
        {
          "output_type": "display_data",
          "data": {
            "image/png": "[encoded data removed]",
            "text/plain": [
              "<Figure size 432x288 with 1 Axes>"
            ]
          },
          "metadata": {
            "tags": []
          }
        }
      ]
    },
    {
      "cell_type": "markdown",
      "metadata": {
        "colab_type": "text",
        "id": "M7-XpPP99Cy7"
      },
      "source": [
        "### Videos"
      ]
    },
    {
      "cell_type": "markdown",
      "metadata": {
        "colab_type": "text",
        "id": "9pGfGxSH32gn"
      },
      "source": [
        "It is helpful to visualize the performance of an agent by rendering the environment at each step. Before we do that, let us first create a function to embed videos in this colab."
      ]
    },
    {
      "cell_type": "code",
      "metadata": {
        "colab_type": "code",
        "id": "ULaGr8pvOKbl",
        "colab": {}
      },
      "source": [
        "def embed_mp4(filename):\n",
        "  \"\"\"Embeds an mp4 file in the notebook.\"\"\"\n",
        "  video = open(filename,'rb').read()\n",
        "  b64 = base64.b64encode(video)\n",
        "  tag = '''\n",
        "  <video width=\"640\" height=\"480\" controls>\n",
        "    <source src=\"data:video/mp4;base64,{0}\" type=\"video/mp4\">\n",
        "  Your browser does not support the video tag.\n",
        "  </video>'''.format(b64.decode())\n",
        "\n",
        "  return IPython.display.HTML(tag)"
      ],
      "execution_count": 0,
      "outputs": []
    },
    {
      "cell_type": "markdown",
      "metadata": {
        "colab_type": "text",
        "id": "9c_PH-pX4Pr5"
      },
      "source": [
        "The following code visualizes the agent's policy for a few episodes:"
      ]
    },
    {
      "cell_type": "code",
      "metadata": {
        "colab_type": "code",
        "id": "owOVWB158NlF",
        "outputId": "214af36d-07b8-44a2-c058-7788bb3f57aa",
        "colab": {
          "base_uri": "https://localhost:8080/",
          "height": 538
        }
      },
      "source": [
        "num_episodes = 3\n",
        "video_filename = 'imageio.mp4'\n",
        "with imageio.get_writer(video_filename, fps=60) as video:\n",
        "  for _ in range(num_episodes):\n",
        "    time_step = eval_env.reset()\n",
        "    video.append_data(eval_py_env.render())\n",
        "    while not time_step.is_last():\n",
        "      action_step = tf_agent.policy.action(time_step)\n",
        "      time_step = eval_env.step(action_step.action)\n",
        "      video.append_data(eval_py_env.render())\n",
        "\n",
        "embed_mp4(video_filename)"
      ],
      "execution_count": 0,
      "outputs": [
        {
          "output_type": "stream",
          "text": [
            "WARNING:root:IMAGEIO FFMPEG_WRITER WARNING: input image is not divisible by macro_block_size=16, resizing from (400, 600) to (400, 608) to ensure video compatibility with most codecs and players. To prevent resizing, make your input image divisible by the macro_block_size or set the macro_block_size to None (risking incompatibility). You may also see a FFMPEG warning concerning speedloss due to data not being aligned.\n"
          ],
          "name": "stderr"
        },
        {
          "output_type": "execute_result",
          "data": {
            "text/html": [
              "\n",
              "  <video width=\"640\" height=\"480\" controls>\n",
              "    <source src=\"data:video/mp4;base64,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\" type=\"video/mp4\">\n",
              "  Your browser does not support the video tag.\n",
              "  </video>"
            ],
            "text/plain": [
              "<IPython.core.display.HTML object>"
            ]
          },
          "metadata": {
            "tags": []
          },
          "execution_count": 19
        }
      ]
    },
    {
      "cell_type": "code",
      "metadata": {
        "id": "Hj3pNbYtgfL6",
        "colab_type": "code",
        "colab": {}
      },
      "source": [
        ""
      ],
      "execution_count": 0,
      "outputs": []
    }
  ]
}